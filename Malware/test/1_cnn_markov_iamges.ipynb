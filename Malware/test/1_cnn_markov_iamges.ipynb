{
 "cells": [
  {
   "cell_type": "code",
   "execution_count": null,
   "metadata": {},
   "outputs": [],
   "source": []
  }
 ],
 "metadata": {
  "kernelspec": {
   "display_name": "vismal",
   "language": "python",
   "name": "python3"
  },
  "language_info": {
   "name": "python",
   "version": "3.7.13 (default, Mar 28 2022, 08:03:21) [MSC v.1916 64 bit (AMD64)]"
  },
  "orig_nbformat": 4,
  "vscode": {
   "interpreter": {
    "hash": "d0e8adc96fff27b3c3d7b47fd5acd161d09813437f14923a2f7cdfef78cee2fe"
   }
  }
 },
 "nbformat": 4,
 "nbformat_minor": 2
}
